{
  "nbformat": 4,
  "nbformat_minor": 0,
  "metadata": {
    "colab": {
      "provenance": [],
      "authorship_tag": "ABX9TyOwQA3yrrJ//aTNB6Hd0Bmk",
      "include_colab_link": true
    },
    "kernelspec": {
      "name": "python3",
      "display_name": "Python 3"
    },
    "language_info": {
      "name": "python"
    }
  },
  "cells": [
    {
      "cell_type": "markdown",
      "metadata": {
        "id": "view-in-github",
        "colab_type": "text"
      },
      "source": [
        "<a href=\"https://colab.research.google.com/github/Gus-oss/MachineLearning/blob/main/Problema7%268Tarea2MEM.ipynb\" target=\"_parent\"><img src=\"https://colab.research.google.com/assets/colab-badge.svg\" alt=\"Open In Colab\"/></a>"
      ]
    },
    {
      "cell_type": "markdown",
      "source": [
        "#Problema 7"
      ],
      "metadata": {
        "id": "JylELkBnVF23"
      }
    },
    {
      "cell_type": "code",
      "source": [
        "from scipy.stats import chi2\n",
        "\n",
        "df = 5\n",
        "# Valores\n",
        "a_val = 3\n",
        "b_low, b_high = 4, 6\n",
        "c_val = 2\n",
        "alpha = 0.85\n",
        "\n",
        "# A)\n",
        "prob_A = 1 - chi2.cdf(a_val, df)\n",
        "# B)\n",
        "prob_B = chi2.cdf(b_high, df) - chi2.cdf(b_low, df)\n",
        "# C)\n",
        "prob_C = chi2.cdf(c_val, df)\n",
        "# D) w tal que P(Q < w) = 0.85\n",
        "w = chi2.ppf(alpha, df)\n",
        "\n",
        "print(f\"A) P(Q > {a_val}) = {prob_A:.6f}\")\n",
        "print(f\"B) P({b_low} < Q < {b_high}) = {prob_B:.6f}\")\n",
        "print(f\"C) P(Q < {c_val}) = {prob_C:.6f}\")\n",
        "print(f\"D) w (85%-percentil) = {w:.6f}\")\n"
      ],
      "metadata": {
        "colab": {
          "base_uri": "https://localhost:8080/"
        },
        "id": "9CZWQUgYVJRb",
        "outputId": "c58a6afe-5571-4009-ce1e-36ea3ccbdcf5"
      },
      "execution_count": null,
      "outputs": [
        {
          "output_type": "stream",
          "name": "stdout",
          "text": [
            "A) P(Q > 3) = 0.699986\n",
            "B) P(4 < Q < 6) = 0.243197\n",
            "C) P(Q < 2) = 0.150855\n",
            "D) w (85%-percentil) = 8.115199\n"
          ]
        }
      ]
    },
    {
      "cell_type": "markdown",
      "source": [
        "# Problema 8"
      ],
      "metadata": {
        "id": "lHSlOHduVCnG"
      }
    },
    {
      "cell_type": "code",
      "execution_count": null,
      "metadata": {
        "colab": {
          "base_uri": "https://localhost:8080/"
        },
        "id": "wwJZZHgZqGUg",
        "outputId": "b6050872-f809-4360-c0c2-2141560781e6"
      },
      "outputs": [
        {
          "output_type": "stream",
          "name": "stdout",
          "text": [
            "Matriz de covarianzas muestrales S:\n",
            "           X1          X2          X3         X4         X5\n",
            "X1  27.088474   43.029097   26.502514  13.003355  17.403444\n",
            "X2  43.029097  109.938370   35.671089  49.543822  53.919321\n",
            "X3  26.502514   35.671089  103.328174  33.266840  36.491867\n",
            "X4  13.003355   49.543822   33.266840  80.259596  22.005543\n",
            "X5  17.403444   53.919321   36.491867  22.005543  70.952417\n"
          ]
        }
      ],
      "source": [
        "import numpy as np\n",
        "import pandas as pd\n",
        "\n",
        "df = pd.read_excel('/content/datos tarea 2.xlsx')\n",
        "\n",
        "#seleccionamos solo las columnas numericas\n",
        "columnas = ['X1', 'X2', 'X3', 'X4', 'X5']\n",
        "X = df[columnas]\n",
        "\n",
        "#matriz de covarianza\n",
        "S = X.cov()\n",
        "\n",
        "# 4. Mostrar resultado\n",
        "print(\"Matriz de covarianzas muestrales S:\")\n",
        "print(S)"
      ]
    },
    {
      "cell_type": "code",
      "source": [
        "# 3. Calcular el vector de medias muestrales\n",
        "media_vector = X.mean()   # Devuelve un pandas.Series\n",
        "\n",
        "print(\"Vector de medias muestrales :\")\n",
        "print(media_vector)"
      ],
      "metadata": {
        "colab": {
          "base_uri": "https://localhost:8080/"
        },
        "id": "8lPoCopqsRYs",
        "outputId": "be43ff50-905f-49a3-a4c1-e8b92e681e24"
      },
      "execution_count": null,
      "outputs": [
        {
          "output_type": "stream",
          "name": "stdout",
          "text": [
            "Vector de medias muestrales :\n",
            "X1     91.21800\n",
            "X2    101.92792\n",
            "X3    149.20950\n",
            "X4    300.45120\n",
            "X5    501.20704\n",
            "dtype: float64\n"
          ]
        }
      ]
    },
    {
      "cell_type": "code",
      "source": [],
      "metadata": {
        "id": "njGtsyiCs11K"
      },
      "execution_count": null,
      "outputs": []
    }
  ]
}